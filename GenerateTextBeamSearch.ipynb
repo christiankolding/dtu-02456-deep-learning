{
 "cells": [
  {
   "cell_type": "code",
   "execution_count": 1,
   "metadata": {},
   "outputs": [],
   "source": [
    "import numpy as np\n",
    "import torch\n",
    "import torch.nn.functional as F\n",
    "import data\n",
    "from helpers import Config"
   ]
  },
  {
   "cell_type": "code",
   "execution_count": 2,
   "metadata": {},
   "outputs": [],
   "source": [
    "SEED = 42\n",
    "DATA = '/floyd/input/ptb/'\n",
    "CUDA = False\n",
    "CONFIG_NAME = 'text_generation_beam_search'\n",
    "device = torch.device(\"cuda\" if CUDA else \"cpu\")\n",
    "args = Config(CONFIG_NAME)"
   ]
  },
  {
   "cell_type": "code",
   "execution_count": 3,
   "metadata": {},
   "outputs": [],
   "source": [
    "corpus = data.Corpus(DATA)\n",
    "ntokens = len(corpus.dictionary)"
   ]
  },
  {
   "cell_type": "code",
   "execution_count": 4,
   "metadata": {},
   "outputs": [
    {
     "data": {
      "text/plain": [
       "WD_LSTM(\n",
       "  (drop): Dropout(p=0.2)\n",
       "  (encoder): Embedding(10000, 400)\n",
       "  (rnns): ModuleList(\n",
       "    (0): WeightDrop(\n",
       "      (module): LSTM(400, 800)\n",
       "    )\n",
       "    (1): WeightDrop(\n",
       "      (module): LSTM(800, 800)\n",
       "    )\n",
       "    (2): WeightDrop(\n",
       "      (module): LSTM(800, 400)\n",
       "    )\n",
       "  )\n",
       "  (decoder): Linear(in_features=800, out_features=10000, bias=True)\n",
       ")"
      ]
     },
     "execution_count": 4,
     "metadata": {},
     "output_type": "execute_result"
    }
   ],
   "source": [
    "with open(args.checkpoint, 'rb') as f:\n",
    "    model = torch.load(f, map_location=device)\n",
    "model.eval()"
   ]
  },
  {
   "cell_type": "code",
   "execution_count": 5,
   "metadata": {},
   "outputs": [],
   "source": [
    "def get_next_words(model, word, hidden):\n",
    "    output, hidden = model(word, hidden)\n",
    "    word_weights = output.squeeze().cpu()\n",
    "    probabilities = F.softmax(word_weights, dim=0)\n",
    "    word_scores, word_indices = probabilities.topk(args.beam_size)\n",
    "    return word_scores, word_indices, hidden"
   ]
  },
  {
   "cell_type": "code",
   "execution_count": 6,
   "metadata": {},
   "outputs": [],
   "source": [
    "def run_candidates(words, hidden, p):\n",
    "    candidates = []\n",
    "    cue.fill_(corpus.dictionary.word2idx[words[-1]])\n",
    "    word_scores, word_indices, hidden = get_next_words(model, cue, hidden)\n",
    "    for ws, wi in zip(word_scores, word_indices):\n",
    "        if corpus.dictionary.idx2word[wi] != '<unk>':\n",
    "            candidates.append(\n",
    "                (words + [corpus.dictionary.idx2word[wi]], hidden, p + np.log(ws.item()))\n",
    "            )\n",
    "    return candidates"
   ]
  },
  {
   "cell_type": "code",
   "execution_count": 11,
   "metadata": {},
   "outputs": [],
   "source": [
    "hidden = model.init_hidden(1)\n",
    "cue_words = [\"the\", \"federal\", \"reserve\", \"board\"]\n",
    "cue = torch.tensor([[corpus.dictionary.word2idx[cue_words[0]]]]).to(device)\n",
    "for word in cue_words[1:]:\n",
    "    output, hidden = model(cue, hidden)\n",
    "    cue.fill_(corpus.dictionary.word2idx[word])"
   ]
  },
  {
   "cell_type": "code",
   "execution_count": 14,
   "metadata": {},
   "outputs": [
    {
     "name": "stdout",
     "output_type": "stream",
     "text": [
      "the federal reserve board said it is n't clear that the government would be able to reduce the value of its assets <eos> the new york stock exchange composite trading was quoted at $ N a share down N cents <eos> the company said it expects to post a loss of $ N million or\n"
     ]
    }
   ],
   "source": [
    "current_candidates = run_candidates(cue_words, hidden, 0)\n",
    "for _ in range(50):\n",
    "    new_candidates = []\n",
    "        new_candidates.extend(run_candidates(cw, h, s))\n",
    "    new_candidates.sort(key=lambda elem: elem[2], reverse=True)\n",
    "    current_candidates = new_candidates[:3]\n",
    "winner = sorted(new_candidates, key=lambda elem: elem[2], reverse=True)[0][0]\n",
    "print(str.join(\" \", winner))"
   ]
  },
  {
   "cell_type": "code",
   "execution_count": null,
   "metadata": {},
   "outputs": [],
   "source": []
  }
 ],
 "metadata": {
  "kernelspec": {
   "display_name": "Python 3",
   "language": "python",
   "name": "python3"
  },
  "language_info": {
   "codemirror_mode": {
    "name": "ipython",
    "version": 3
   },
   "file_extension": ".py",
   "mimetype": "text/x-python",
   "name": "python",
   "nbconvert_exporter": "python",
   "pygments_lexer": "ipython3",
   "version": "3.6.5"
  }
 },
 "nbformat": 4,
 "nbformat_minor": 2
}
